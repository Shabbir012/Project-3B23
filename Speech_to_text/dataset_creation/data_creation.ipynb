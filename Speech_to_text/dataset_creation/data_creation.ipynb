{
 "cells": [
  {
   "cell_type": "code",
   "execution_count": 25,
   "outputs": [],
   "source": [
    "import csv\n",
    "\n",
    "# Read the text file\n",
    "with open('C:/Users/samik/OneDrive/Desktop/dataset_creation/Merged dataset.txt', 'r') as f:\n",
    "    text = f.read()\n",
    "\n",
    "# Split the text into paragraphs\n",
    "paragraphs = text.split('\\n\\n')\n",
    "\n",
    "# Initialize an empty list to store the sentences\n",
    "sentences = []\n",
    "\n",
    "# Iterate over the paragraphs and split them into sentences\n",
    "for paragraph in paragraphs:\n",
    "    sentences.extend(paragraph.split('. '))\n",
    "\n",
    "# Number the sentences\n",
    "\n",
    "# Write the numbered sentences to a new CSV file\n",
    "# Write the numbered sentences to a new CSV file\n",
    "with open('data_created.csv', 'w', newline='') as f:\n",
    "    writer = csv.writer(f)\n",
    "    writer.writerow(['id', 'sentences'])\n",
    "    writer.writerows([[i, sentence.lstrip(f'{i}. ')] for i, sentence in enumerate(numbered_sentences, start=1)])\n"
   ],
   "metadata": {
    "collapsed": false,
    "ExecuteTime": {
     "end_time": "2024-04-19T21:54:36.840373Z",
     "start_time": "2024-04-19T21:54:36.690732200Z"
    }
   }
  },
  {
   "cell_type": "code",
   "execution_count": 3,
   "outputs": [],
   "source": [
    "import dlib"
   ],
   "metadata": {
    "collapsed": false,
    "ExecuteTime": {
     "end_time": "2024-04-30T15:11:59.484296600Z",
     "start_time": "2024-04-30T15:11:59.246784400Z"
    }
   }
  },
  {
   "cell_type": "code",
   "execution_count": null,
   "outputs": [],
   "source": [],
   "metadata": {
    "collapsed": false
   }
  }
 ],
 "metadata": {
  "kernelspec": {
   "display_name": "Python 3",
   "language": "python",
   "name": "python3"
  },
  "language_info": {
   "codemirror_mode": {
    "name": "ipython",
    "version": 2
   },
   "file_extension": ".py",
   "mimetype": "text/x-python",
   "name": "python",
   "nbconvert_exporter": "python",
   "pygments_lexer": "ipython2",
   "version": "2.7.6"
  }
 },
 "nbformat": 4,
 "nbformat_minor": 0
}
