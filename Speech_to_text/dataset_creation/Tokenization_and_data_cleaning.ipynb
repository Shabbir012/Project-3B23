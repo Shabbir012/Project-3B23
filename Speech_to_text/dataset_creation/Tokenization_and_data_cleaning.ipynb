{
 "cells": [
  {
   "cell_type": "code",
   "execution_count": 3,
   "metadata": {
    "ExecuteTime": {
     "end_time": "2024-04-29T14:42:28.355906300Z",
     "start_time": "2024-04-29T14:42:28.102870Z"
    },
    "collapsed": true
   },
   "outputs": [
    {
     "name": "stdout",
     "output_type": "stream",
     "text": [
      "['i', 'me', 'my', 'myself', 'we', 'our', 'ours', 'ourselves', 'you', \"you're\", \"you've\", \"you'll\", \"you'd\", 'your', 'yours', 'yourself', 'yourselves', 'he', 'him', 'his', 'himself', 'she', \"she's\", 'her', 'hers', 'herself', 'it', \"it's\", 'its', 'itself', 'they', 'them', 'their', 'theirs', 'themselves', 'what', 'which', 'who', 'whom', 'this', 'that', \"that'll\", 'these', 'those', 'am', 'is', 'are', 'was', 'were', 'be', 'been', 'being', 'have', 'has', 'had', 'having', 'do', 'does', 'did', 'doing', 'a', 'an', 'the', 'and', 'but', 'if', 'or', 'because', 'as', 'until', 'while', 'of', 'at', 'by', 'for', 'with', 'about', 'against', 'between', 'into', 'through', 'during', 'before', 'after', 'above', 'below', 'to', 'from', 'up', 'down', 'in', 'out', 'on', 'off', 'over', 'under', 'again', 'further', 'then', 'once', 'here', 'there', 'when', 'where', 'why', 'how', 'all', 'any', 'both', 'each', 'few', 'more', 'most', 'other', 'some', 'such', 'no', 'nor', 'not', 'only', 'own', 'same', 'so', 'than', 'too', 'very', 's', 't', 'can', 'will', 'just', 'don', \"don't\", 'should', \"should've\", 'now', 'd', 'll', 'm', 'o', 're', 've', 'y', 'ain', 'aren', \"aren't\", 'couldn', \"couldn't\", 'didn', \"didn't\", 'doesn', \"doesn't\", 'hadn', \"hadn't\", 'hasn', \"hasn't\", 'haven', \"haven't\", 'isn', \"isn't\", 'ma', 'mightn', \"mightn't\", 'mustn', \"mustn't\", 'needn', \"needn't\", 'shan', \"shan't\", 'shouldn', \"shouldn't\", 'wasn', \"wasn't\", 'weren', \"weren't\", 'won', \"won't\", 'wouldn', \"wouldn't\"]\n"
     ]
    },
    {
     "name": "stderr",
     "output_type": "stream",
     "text": [
      "[nltk_data] Downloading package stopwords to\n",
      "[nltk_data]     C:\\Users\\samik\\AppData\\Roaming\\nltk_data...\n",
      "[nltk_data]   Package stopwords is already up-to-date!\n"
     ]
    }
   ],
   "source": [
    "import pandas as pd\n",
    "from nltk.stem.porter import *\n",
    "stemmer = PorterStemmer()\n",
    "import numpy as np\n",
    "import nltk\n",
    "from nltk.corpus import stopwords\n",
    "nltk.download('stopwords')\n",
    "\n",
    "sw_nltk = stopwords.words('english')\n",
    "\n",
    "print(sw_nltk)"
   ]
  },
  {
   "cell_type": "code",
   "execution_count": 4,
   "metadata": {
    "ExecuteTime": {
     "end_time": "2024-04-29T14:42:33.865938400Z",
     "start_time": "2024-04-29T14:42:33.799916200Z"
    },
    "collapsed": false
   },
   "outputs": [],
   "source": [
    "df = pd.read_csv('C:/Users/samik/OneDrive/Desktop/dataset_creation/data_created.csv')"
   ]
  },
  {
   "cell_type": "code",
   "execution_count": 29,
   "metadata": {
    "ExecuteTime": {
     "end_time": "2024-04-29T15:06:17.542354400Z",
     "start_time": "2024-04-29T15:06:17.528740600Z"
    },
    "collapsed": false
   },
   "outputs": [],
   "source": [
    "import pandas as pd\n",
    "from nltk.stem import WordNetLemmatizer\n",
    "from nltk.tokenize import WhitespaceTokenizer\n",
    "from nltk.tokenize import word_tokenize\n",
    "\n"
   ]
  },
  {
   "cell_type": "markdown",
   "metadata": {
    "collapsed": false
   },
   "source": []
  },
  {
   "cell_type": "code",
   "execution_count": 31,
   "metadata": {
    "ExecuteTime": {
     "end_time": "2024-04-29T15:11:59.724517400Z",
     "start_time": "2024-04-29T15:11:58.762910500Z"
    },
    "collapsed": false
   },
   "outputs": [],
   "source": [
    "sentence_df= df['sentences']\n",
    "\n",
    "#Converted text into lowercase and removed and empty spaces\n",
    "\n",
    "sentence_df=sentence_df.str.lower().str.strip()\n",
    "sentence_df.dropna(inplace=True)\n",
    "#Removed any numbers in the sentences\n",
    "sentence_df=sentence_df.astype(str).replace('//d+','',regex=True)\n",
    "#Removed the speaker word from the sentences\n",
    "sentence_df=sentence_df.str.replace('speaker','',regex=True)\n",
    "#Removed punctuations,specials characters\n",
    "sentence_df=sentence_df.str.replace(\"[^a-zA-Z#]\", \" \",regex=True)\n",
    "# Removed the words smaller than three letters\n",
    "sentence_df=sentence_df.apply(lambda x: ' '.join([w for w in x.split() if len(w)>3]))\n",
    "# Removed the short words\n",
    "stop_words=stopwords.words('english')\n",
    "sentence_df = sentence_df.apply(lambda x: ' '.join([word for word in x.split() if word not in stop_words]))\n",
    "#Replaced the empty rows with NA\n",
    "sentence_df=sentence_df.replace('',pd.NA)\n",
    "#Removed the empty rows with NA.\n",
    "sentence_df.dropna(inplace=True)\n",
    "# Tokenized the datafram\n",
    "\n",
    "lemmatizer = WordNetLemmatizer()\n",
    "\n",
    "def lemmatize_sentence(sentence):\n",
    "    tokens = word_tokenize(sentence)\n",
    "    lemmatized_output = ' '.join([lemmatizer.lemmatize(w) for w in tokens])\n",
    "    return lemmatized_output\n",
    "sentence_df=sentence_df.apply(lemmatize_sentence)\n",
    "# Perform the\n",
    "\n",
    "\n",
    "\n",
    "#Saved the dataframe into csv\n",
    "sentence_df.to_csv('C:/Users/samik/OneDrive/Desktop/dataset_creation/tokenized_data7.csv')\n",
    "\n"
   ]
  }
 ],
 "metadata": {
  "kernelspec": {
   "display_name": "Python 3",
   "language": "python",
   "name": "python3"
  },
  "language_info": {
   "codemirror_mode": {
    "name": "ipython",
    "version": 2
   },
   "file_extension": ".py",
   "mimetype": "text/x-python",
   "name": "python",
   "nbconvert_exporter": "python",
   "pygments_lexer": "ipython2",
   "version": "2.7.6"
  }
 },
 "nbformat": 4,
 "nbformat_minor": 0
}
