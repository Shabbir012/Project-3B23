{
 "cells": [
  {
   "cell_type": "code",
   "execution_count": null,
   "metadata": {
    "collapsed": true,
    "is_executing": true
   },
   "outputs": [],
   "source": [
    "import pandas as pd\n",
    "import re\n",
    "\n",
    "# Function to split text into sentences\n",
    "def split_into_sentences(text):\n",
    "    sentences = re.split(r'(?<!\\w\\.\\w.)(?<![A-Z][a-z]\\.)(?<=\\.|\\?)\\s', text)\n",
    "    return sentences\n",
    "\n",
    "# Read the CSV file\n",
    "df = pd.read_csv('C:/Users/samik/OneDrive/Desktop/deepgram_transcript/Merged.csv')\n",
    "\n",
    "# Assuming 'paragraph' is the column with the text data\n",
    "df['sentences'] = df['paragraph'].apply(split_into_sentences)\n",
    "\n",
    "# Explode the 'sentences' list into rows and reset index to get sentence id\n",
    "sentences_df = df.explode('sentences').reset_index(drop=True)\n",
    "\n",
    "# Create 'id' column to count sentences\n",
    "sentences_df['id'] = sentences_df.groupby((sentences_df['sentences'] != sentences_df['sentences'].shift()).cumsum()).cumcount() + 2\n",
    "\n",
    "# Drop rows with empty sentences if any\n",
    "sentences_df = sentences_df[sentences_df['sentences'].str.strip().astype(bool)]\n",
    "\n",
    "# Save to a new CSV file if needed\n",
    "sentences_df.to_csv('C:/Users/samik/OneDrive/Desktop/deepgram_transcript/sentences_dataset.csv', index=False)\n",
    "\n",
    "\n"
   ]
  },
  {
   "cell_type": "code",
   "execution_count": null,
   "outputs": [],
   "source": [],
   "metadata": {
    "collapsed": false
   }
  }
 ],
 "metadata": {
  "kernelspec": {
   "display_name": "Python 3",
   "language": "python",
   "name": "python3"
  },
  "language_info": {
   "codemirror_mode": {
    "name": "ipython",
    "version": 2
   },
   "file_extension": ".py",
   "mimetype": "text/x-python",
   "name": "python",
   "nbconvert_exporter": "python",
   "pygments_lexer": "ipython2",
   "version": "2.7.6"
  }
 },
 "nbformat": 4,
 "nbformat_minor": 0
}
