{
  "nbformat": 4,
  "nbformat_minor": 0,
  "metadata": {
    "colab": {
      "provenance": []
    },
    "kernelspec": {
      "name": "python3",
      "display_name": "Python 3"
    },
    "language_info": {
      "name": "python"
    }
  },
  "cells": [
    {
      "cell_type": "code",
      "execution_count": null,
      "metadata": {
        "id": "Nd45Az99WTEB"
      },
      "outputs": [],
      "source": [
        "#install libraries\n",
        "!pip install requests\n",
        "!pip install html5lib\n",
        "!pip install bs4\n",
        "!pip install beautifulsoup4==4.9.3\n",
        "\n"
      ]
    },
    {
      "cell_type": "code",
      "source": [
        "#import libraries\n",
        "import requests\n",
        "import pandas as pd\n",
        "from bs4 import BeautifulSoup"
      ],
      "metadata": {
        "id": "XtzU1mgDXWhI"
      },
      "execution_count": null,
      "outputs": []
    },
    {
      "cell_type": "code",
      "source": [
        "#input the link to the website to extract its contents\n",
        "url = \"https://www.theatlantic.com/technology/archive/2021/10/facebook-metaverse-name-change/620449/\"\n",
        "#headers = {\"User-Agent\":\"Mozilla/5.0 (Windows NT 10.0; Win64; x64) AppleWebKit/537.36 (KHTML, like Gecko) Chrome/105.0.0.0 Safari/537.36\"}\n",
        "response = requests.get(url)\n",
        "soup = BeautifulSoup(response.text, \"html5lib\")\n",
        "print(response.status_code)\n",
        "print(soup.prettify())\n"
      ],
      "metadata": {
        "id": "YHa3mHWwWwY1"
      },
      "execution_count": null,
      "outputs": []
    },
    {
      "cell_type": "code",
      "source": [
        "#find the p tags that needs to be scraped\n",
        "summary = soup.find_all(\"p\",  attrs = {'class': 'ArticleParagraph_root__4mszW'})\n",
        "summary"
      ],
      "metadata": {
        "id": "yhwpxDmrW0q1"
      },
      "execution_count": null,
      "outputs": []
    },
    {
      "cell_type": "code",
      "source": [
        "#get the text from the p tags and store them in a list\n",
        "sentence_list = []\n",
        "for sentence in summary:\n",
        "  text = sentence.get_text(strip = True)\n",
        "  sentence_list.append(text)\n",
        "  print(text)\n",
        "\n",
        "len(sentence_list)\n"
      ],
      "metadata": {
        "id": "traPYYb_W2yQ",
        "colab": {
          "base_uri": "https://localhost:8080/"
        },
        "outputId": "1ee03ffd-9ca3-47ca-faf9-44c6c25dc80f"
      },
      "execution_count": null,
      "outputs": [
        {
          "output_type": "stream",
          "name": "stdout",
          "text": [
            "Updated at 2:45 p.m. ET on October 28, 2021\n",
            "In science fiction, the end of the world is a tidy affair. Climate collapse or an alien invasion drives humanity to flee oncosmic arks, or live inside asimulation. Real-life apocalypse is more ambiguous. It happens slowly, and there’s no way of knowing when the Earth is really doomed. To depart our world, under these conditions, is the same as giving up on it.\n",
            "And yet, some of your wealthiest fellow earthlings would like to do exactly that. Elon Musk, Jeff Bezos, and other purveyors of private space travel imagine a celestial paradise where we can thrive as a “multiplanet species.” That’s the dream of films such asInterstellarandWall-E. Now comes news that Mark Zuckerberg has embraced the premise ofThe Matrix, that we can plug ourselves into a big computer andpersist as flesh huskswhile reality decays around us. According to areportthis week fromThe Verge, the Facebook chief may soon rebrand his company to mark its change in focus from social media to “the metaverse.” [Update: He’s gone ahead and done it! One week after this piece was first published, Zuckerbergannouncedthat the company will now be known as “Meta.”]\n",
            "In a narrow sense, this phrase refers tointernet-connected glasses. More broadly, though, it’s a fantasy of power and control.\n",
            "Beyond science fiction,metaversemeans almost nothing. Even within sci-fi, it doesn’t mean much. No article on this topic would be complete without a mention of the 1992 novelSnow Crash, in which Neal Stephenson coined the term. But that book offers scarce detail about the actual operation of the alternate-reality dreamworld it posits. A facility of computers in the desert runs the metaverse, and the novel’s characters hang out inside the simulation because their real lives are boring or difficult. No such entity exists today, of course, just as no real product even approximates the rough idea—drawn from Stephenson or William Gibson or Philip K. Dick—of having people jack into a virtual, parallel reality with goggles or brain implants. Ironically, these writers clearly meant towarn us offthose dreams, rather than inspire them.\n",
            "In the simplest explanation, the metaverse is just a sexy, aspirational name for some kind of virtual or augmented-reality play. Facebook owns a company called Oculus, which manufactures and sells VR computers and headsets. Oculus is also making a 3-D, virtual platform calledHorizon—think Minecraft with avatars, but without the blocks. Facebook, Apple, and others have also invested heavily inaugmented reality, a kind of computer graphics that uses goggles to overlay interactive elements onto a live view of the world. So far, the most viable applications of VR and AR can be found in medicine, architecture, and manufacturing, but dreams of its widespread consumer appeal persist. If those dreams become realized, you’ll probably end up buying crap and yelling at people through a head-mounted display, instead of through your smartphone. Sure, calling that a metaverse probably sounds better. Just like “the cloud” sounds better than, you know, a server farm where people and companies rent disk space.\n",
            "It’s absurd but telling that the inspiration for the metaverse was meant as satire. Just as OZY Mediamisinterprets Shelley, so Zuck and crew misconstrue metaverse fiction. InSnow Crash, as in other cyberpunk stories (including the 1995 Kathryn Bigelow filmStrange Days), the metaverse comes across as intrinsically dangerous. The book’s title refers to a digital drug for denizens of the metaverse, with harmful neurological effects that extend outside it.\n",
            "That danger hasn’t survived the metaverse’s translation into contemporary technological fantasy. Instead, the concept appeals to tech magnates because it connects the rather prosaic reality of technologized consumer attention to a science-fictional dream of escape. You can see why Zuckerberg, plagued by months and years of criticism of his decidedly low-fidelity social networks and apps, might find an escape hatch appealing. The metaverse offers a way to leave behind worldly irritants and relocate to greener pastures. This is the rationale of a strip miner or a private-equity partner: Take what you can, move on, and don’t look back. No wonder fictional worlds with metaverses are always trashed.\n",
            "The fantasy is bigger, though. CEOs in tech know that billions of people still live much of their life beyond computer screens. Those people buy automobiles and grow herb gardens. They copulate and blow autumn leaves. Real life still seeps through the seams of computers. The executives know that no company, however big, can capture all the world. But there is an alternative: If only the public could be persuaded to abandon atoms for bits, the material for the symbolic, then people would have to lease virtualized renditions of all the things that haven’t yet been pulled online. Slowly, eventually, the uncontrollable material world falls away, leaving in its stead only the pristine—but monetizable—virtual one.\n",
            "The technical feasibility of such an outcome is slight, but don’t let that bother you. More important is the ambition it represents for tycoons who have already captured so much of the global population’s attention: Even as a hypothetical, a metaverse solves all the problems of physics, business, politics, and everything else. In the metaverse, every home can have a dishwasher. Soft goods such as clothing and art (andreceipts for JPEGs) can be manufactured at no cost and exchanged for nothing, save the transaction fees charged by your metaverse provider. A metaverse also assumes complete interoperability. It offers a path toward total consolidation, where one entity sells you entertainment, social connection, trousers, antifreeze, and everything in between. If realized, the metaverse would become the ultimate company town, a megascale Amazon that rolls up raw materials, supply chains, manufacturing, distribution, and use and all its related discourse into one single service. It is the black hole of consumption.\n",
            "Postmodern critics celebrated and lamented metadiscursivity—the tendency to talk about talking about things as a substitute for talking about them. Then “going meta” became a power move online, a way of getting atop and over a person, product, or idea in a futile attempt to tame it. In an era of infinite, free connectivity, meaning became so plentiful that it began to seem suspect. Going meta short-circuited the need to contend with meaning in the first place, replacing it with a tower of deferred meanings, each one-upping the last’s claim to prominence. Memes meme memes, then appear on T-shirts, then recur as Instagrammed latte art.\n",
            "As I write this, a rumor about the rumor about Facebook’s metaversal rebranding is circulating: Bloombergreported yesterdaythat the company already owns meta.com, meta.org, and perhaps dozens of other meta-names, domains, handles, and properties. What better way to go meta on going meta than to rename the company Meta? (Later in the day, the technology writer Casey Newtonreportedthat Zuckerberg is “now leaningawayfrom Meta as the name.”) [Again, this actuallyhappened.]\n",
            "Despite its slipperiness, going meta has another, firmer meaning. In Greek, the prefixmeta(μετα) refers to transcendence. About-itselfness, the way ironists and epistemologists use the term today, offers one interpretation. Butmeta-also has a more prosaic meaning, referring to something above or beyond something else. Superiority, power, and conquest come along for the ride: A 1928 book on eugenics is titledMetanthropos, or the Body of the Future. A metaverse is a universe, but better. More superior. Anüberversumfor anübermensch. The metaverse, the superman, the private vessel of trillionaire intergalactic escape, the ark on the dark sea of ice melt: To abandon a real and present life for a hypothetical new one means giving up on everything else in the hopes of saving oneself. That’s hubris, probably. But also, to dream of immortality is to admit weakness—a fear that, like all things, you too might end.\n"
          ]
        },
        {
          "output_type": "execute_result",
          "data": {
            "text/plain": [
              "13"
            ]
          },
          "metadata": {},
          "execution_count": 5
        }
      ]
    },
    {
      "cell_type": "code",
      "source": [
        "#convert the list to a dataframe\n",
        "df = pd.DataFrame(sentence_list, columns = ['Text'])\n",
        "df.head(5)"
      ],
      "metadata": {
        "id": "AU6JvELVW3bI"
      },
      "execution_count": null,
      "outputs": []
    },
    {
      "cell_type": "code",
      "source": [
        "#save to csv file\n",
        "df.to_csv(\"Dataset11\")"
      ],
      "metadata": {
        "id": "r0EXGI6MW87l"
      },
      "execution_count": null,
      "outputs": []
    }
  ]
}