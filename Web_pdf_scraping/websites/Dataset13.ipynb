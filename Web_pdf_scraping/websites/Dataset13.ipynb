{
  "nbformat": 4,
  "nbformat_minor": 0,
  "metadata": {
    "colab": {
      "provenance": []
    },
    "kernelspec": {
      "name": "python3",
      "display_name": "Python 3"
    },
    "language_info": {
      "name": "python"
    }
  },
  "cells": [
    {
      "cell_type": "code",
      "execution_count": null,
      "metadata": {
        "id": "j2q3oSb5tDFT"
      },
      "outputs": [],
      "source": [
        "#install libraries\n",
        "!pip install requests\n",
        "!pip install html5lib\n",
        "!pip install bs4\n",
        "!pip install beautifulsoup4==4.9.3\n",
        "\n"
      ]
    },
    {
      "cell_type": "code",
      "source": [
        "#import libraries\n",
        "import requests\n",
        "import pandas as pd\n",
        "from bs4 import BeautifulSoup"
      ],
      "metadata": {
        "id": "3Bi5fkQFtTlm"
      },
      "execution_count": null,
      "outputs": []
    },
    {
      "cell_type": "code",
      "source": [
        "#input the link to the website to extract its contents\n",
        "url = \"https://www.theguardian.com/technology/2022/jul/10/exit-the-internet-enter-the-metaverse-your-online-future-is-in-3d\"\n",
        "#headers = {\"User-Agent\":\"Mozilla/5.0 (Windows NT 10.0; Win64; x64) AppleWebKit/537.36 (KHTML, like Gecko) Chrome/105.0.0.0 Safari/537.36\"}\n",
        "response = requests.get(url)\n",
        "soup = BeautifulSoup(response.text, \"html5lib\")\n",
        "print(response.status_code)\n",
        "print(soup.prettify())\n"
      ],
      "metadata": {
        "id": "X-tyCARbtWa7"
      },
      "execution_count": null,
      "outputs": []
    },
    {
      "cell_type": "code",
      "source": [
        "#find the p tags that needs to be scraped\n",
        "summary = soup.find_all(\"p\",  attrs = {'class': 'dcr-4cudl2'})\n",
        "summary"
      ],
      "metadata": {
        "id": "w8Mtq9N3uPKn"
      },
      "execution_count": null,
      "outputs": []
    },
    {
      "cell_type": "code",
      "source": [
        "#get the text from the p tags and store them in a list\n",
        "sentence_list = []\n",
        "for sentence in summary:\n",
        "  text = sentence.get_text(strip = True)\n",
        "  sentence_list.append(text)\n",
        "\n",
        "\n",
        "len(sentence_list)\n"
      ],
      "metadata": {
        "id": "c0TIeaCkuP0n"
      },
      "execution_count": null,
      "outputs": []
    },
    {
      "cell_type": "code",
      "source": [
        "#convert the list to a dataframe\n",
        "df = pd.DataFrame(sentence_list, columns = ['Text'])\n",
        "df.head(5)"
      ],
      "metadata": {
        "id": "Nsk78GgBx2OC"
      },
      "execution_count": null,
      "outputs": []
    },
    {
      "cell_type": "code",
      "source": [
        "#store to a csv file\n",
        "df.to_csv(\"Dataset13\")"
      ],
      "metadata": {
        "id": "hBt0-Tt6x5Ad"
      },
      "execution_count": null,
      "outputs": []
    }
  ]
}