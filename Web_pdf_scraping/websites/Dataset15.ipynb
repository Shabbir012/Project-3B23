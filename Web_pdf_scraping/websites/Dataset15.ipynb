{
  "nbformat": 4,
  "nbformat_minor": 0,
  "metadata": {
    "colab": {
      "provenance": []
    },
    "kernelspec": {
      "name": "python3",
      "display_name": "Python 3"
    },
    "language_info": {
      "name": "python"
    }
  },
  "cells": [
    {
      "cell_type": "code",
      "execution_count": null,
      "metadata": {
        "id": "wGw-JlDRI0il"
      },
      "outputs": [],
      "source": [
        "#install libraries\n",
        "!pip install requests\n",
        "!pip install html5lib\n",
        "!pip install bs4\n",
        "!pip install beautifulsoup4==4.9.3\n",
        "\n"
      ]
    },
    {
      "cell_type": "code",
      "source": [
        "#import libraries\n",
        "import requests\n",
        "import pandas as pd\n",
        "from bs4 import BeautifulSoup"
      ],
      "metadata": {
        "id": "LJxPIM4hI6wa"
      },
      "execution_count": null,
      "outputs": []
    },
    {
      "cell_type": "code",
      "source": [
        "#input the link to the website to extract its contents\n",
        "url = \"https://www.linkedin.com/pulse/why-metaverse-good-idea-david-ducheyne/\"\n",
        "response = requests.get(url)\n",
        "soup = BeautifulSoup(response.text, \"html5lib\")\n",
        "print(response.status_code)\n",
        "print(soup.prettify())\n"
      ],
      "metadata": {
        "id": "lnHCf1zdI8CD"
      },
      "execution_count": null,
      "outputs": []
    },
    {
      "cell_type": "code",
      "source": [
        "#find the div tag which houses the content of the p tag that needs to be scraped\n",
        "summary = soup.find(\"div\",  attrs = {'class': 'article-main__content max-w-[744px]'})\n",
        "summary = summary.find_all(\"p\")"
      ],
      "metadata": {
        "id": "xih8MefcKQPl"
      },
      "execution_count": null,
      "outputs": []
    },
    {
      "cell_type": "code",
      "source": [
        "comments = soup.find_all(\"p\" ,  attrs = {'class': 'attributed-text-segment-list__content text-color-text !text-sm whitespace-pre-wrap break-words comment__text babybear:mt-0.5'})\n",
        "comments"
      ],
      "metadata": {
        "id": "zzLyBW0xLnq2"
      },
      "execution_count": null,
      "outputs": []
    },
    {
      "cell_type": "code",
      "source": [
        "#get the text from the p tags and store them in a list\n",
        "sentence_list = []\n",
        "for sentence in summary:\n",
        "  text = sentence.get_text(strip = True)\n",
        "  sentence_list.append(text)\n",
        "\n",
        "for sentence in comments:\n",
        "  text = sentence.get_text(strip = True)\n",
        "  sentence_list.append(text)\n",
        "\n",
        "len(sentence_list)\n"
      ],
      "metadata": {
        "colab": {
          "base_uri": "https://localhost:8080/"
        },
        "id": "CiXnEq3tK5g3",
        "outputId": "53a0eac5-8180-4138-c439-53cb5e69ab89"
      },
      "execution_count": null,
      "outputs": [
        {
          "output_type": "execute_result",
          "data": {
            "text/plain": [
              "25"
            ]
          },
          "metadata": {},
          "execution_count": 12
        }
      ]
    },
    {
      "cell_type": "code",
      "source": [
        "#convert the list to a dataframe\n",
        "df = pd.DataFrame(sentence_list, columns = ['Text'])\n",
        "df.head(5)"
      ],
      "metadata": {
        "id": "lRQ-b-1sMXCw"
      },
      "execution_count": null,
      "outputs": []
    },
    {
      "cell_type": "code",
      "source": [
        "#store to a csv file\n",
        "df.to_csv(\"Dataset15\")"
      ],
      "metadata": {
        "id": "CvfNEJXrMbs1"
      },
      "execution_count": null,
      "outputs": []
    }
  ]
}