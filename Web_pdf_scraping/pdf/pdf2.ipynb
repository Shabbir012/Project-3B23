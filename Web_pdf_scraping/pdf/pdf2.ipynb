{
  "nbformat": 4,
  "nbformat_minor": 0,
  "metadata": {
    "colab": {
      "provenance": []
    },
    "kernelspec": {
      "name": "python3",
      "display_name": "Python 3"
    },
    "language_info": {
      "name": "python"
    }
  },
  "cells": [
    {
      "cell_type": "code",
      "execution_count": null,
      "metadata": {
        "colab": {
          "base_uri": "https://localhost:8080/"
        },
        "id": "vw0-loDOeDaZ",
        "outputId": "95459f2f-e79c-4c91-95c8-4d72e2c6c603"
      },
      "outputs": [
        {
          "output_type": "stream",
          "name": "stdout",
          "text": [
            "Collecting pymupdf\n",
            "  Downloading PyMuPDF-1.24.2-cp310-none-manylinux2014_x86_64.whl (3.5 MB)\n",
            "\u001b[2K     \u001b[90m━━━━━━━━━━━━━━━━━━━━━━━━━━━━━━━━━━━━━━━━\u001b[0m \u001b[32m3.5/3.5 MB\u001b[0m \u001b[31m13.1 MB/s\u001b[0m eta \u001b[36m0:00:00\u001b[0m\n",
            "\u001b[?25hCollecting PyMuPDFb==1.24.1 (from pymupdf)\n",
            "  Downloading PyMuPDFb-1.24.1-py3-none-manylinux2014_x86_64.manylinux_2_17_x86_64.whl (30.8 MB)\n",
            "\u001b[2K     \u001b[90m━━━━━━━━━━━━━━━━━━━━━━━━━━━━━━━━━━━━━━━━\u001b[0m \u001b[32m30.8/30.8 MB\u001b[0m \u001b[31m22.5 MB/s\u001b[0m eta \u001b[36m0:00:00\u001b[0m\n",
            "\u001b[?25hInstalling collected packages: PyMuPDFb, pymupdf\n",
            "Successfully installed PyMuPDFb-1.24.1 pymupdf-1.24.2\n"
          ]
        }
      ],
      "source": [
        "#install libraries\n",
        "!pip install pymupdf\n"
      ]
    },
    {
      "cell_type": "code",
      "source": [
        "#import the libraries\n",
        "import fitz\n",
        "import nltk\n",
        "import re\n",
        "import pandas as pd\n",
        "nltk.download('punkt')"
      ],
      "metadata": {
        "colab": {
          "base_uri": "https://localhost:8080/"
        },
        "id": "RJuBewX2eKjU",
        "outputId": "95a7b60f-a90e-4558-a76e-b9e2b3740e43"
      },
      "execution_count": null,
      "outputs": [
        {
          "output_type": "stream",
          "name": "stderr",
          "text": [
            "[nltk_data] Downloading package punkt to /root/nltk_data...\n",
            "[nltk_data]   Unzipping tokenizers/punkt.zip.\n"
          ]
        },
        {
          "output_type": "execute_result",
          "data": {
            "text/plain": [
              "True"
            ]
          },
          "metadata": {},
          "execution_count": 2
        }
      ]
    },
    {
      "cell_type": "code",
      "source": [
        "#input the path of the pdf\n",
        "File_Path = \"/content/virtualworlds-02-00019.pdf\""
      ],
      "metadata": {
        "id": "kGySm-RfeLKH"
      },
      "execution_count": null,
      "outputs": []
    },
    {
      "cell_type": "code",
      "source": [
        "#this is a class that represents the document\n",
        "pdf = fitz.open(File_Path)"
      ],
      "metadata": {
        "id": "YeU3j5LWeSPS"
      },
      "execution_count": null,
      "outputs": []
    },
    {
      "cell_type": "code",
      "source": [
        "#get basic information about the page\n",
        "pdf.metadata"
      ],
      "metadata": {
        "id": "7ovnqNzFeUPI"
      },
      "execution_count": null,
      "outputs": []
    },
    {
      "cell_type": "code",
      "source": [
        "#get table of contents\n",
        "pdf.get_toc()"
      ],
      "metadata": {
        "id": "5TxjpK8ceXpT"
      },
      "execution_count": null,
      "outputs": []
    },
    {
      "cell_type": "code",
      "source": [
        "#get the number of pages of the pdf file\n",
        "pdf.page_count"
      ],
      "metadata": {
        "colab": {
          "base_uri": "https://localhost:8080/"
        },
        "id": "BwTVGdDBeYXl",
        "outputId": "1e1ea627-681f-4884-cf4c-9c3946d3b714"
      },
      "execution_count": null,
      "outputs": [
        {
          "output_type": "execute_result",
          "data": {
            "text/plain": [
              "18"
            ]
          },
          "metadata": {},
          "execution_count": 8
        }
      ]
    },
    {
      "cell_type": "code",
      "source": [
        "#Entire book as text starting from 0 to last page\n",
        "# get all the text as list\n",
        "from sys import ps1\n",
        "def get_book_content(pdf_file):\n",
        "  num_page = pdf_file.page_count\n",
        "  book_content = []\n",
        "  for i in range(5,13):\n",
        "    page = pdf_file.load_page(i)\n",
        "    page_text =  page.get_text().replace(\"\\n\", \" \")\n",
        "    raw_text = page_text.replace(\"\\t\", \" \")\n",
        "\n",
        "    book_content.append(raw_text)\n",
        "\n",
        "  return book_content\n"
      ],
      "metadata": {
        "id": "HFafcuY3edPW"
      },
      "execution_count": null,
      "outputs": []
    },
    {
      "cell_type": "code",
      "source": [
        "#call get_book_content function\n",
        "book = get_book_content(pdf)\n",
        "book"
      ],
      "metadata": {
        "id": "oUjzBI6NeeEC"
      },
      "execution_count": null,
      "outputs": []
    },
    {
      "cell_type": "code",
      "source": [
        "#tokenize into sentences\n",
        "sentencelist = []\n",
        "for i in range(0, 8):\n",
        "# Create a sentence tokenizer\n",
        "  tokenizer = nltk.sent_tokenize(book[i])\n",
        "\n",
        "# Print the extracted sentences\n",
        "  for sentence in tokenizer:\n",
        "    sentencelist.append(sentence)\n",
        "\n",
        "len(sentencelist)"
      ],
      "metadata": {
        "colab": {
          "base_uri": "https://localhost:8080/"
        },
        "id": "90zi3u4Uejp6",
        "outputId": "87f46dee-bca7-4f73-b589-311a54421706"
      },
      "execution_count": null,
      "outputs": [
        {
          "output_type": "execute_result",
          "data": {
            "text/plain": [
              "180"
            ]
          },
          "metadata": {},
          "execution_count": 15
        }
      ]
    },
    {
      "cell_type": "code",
      "source": [
        "#convert list to data frame\n",
        "df = pd.DataFrame(sentencelist, columns = ['Text'])\n",
        "df"
      ],
      "metadata": {
        "id": "fk-MKyOhemz6"
      },
      "execution_count": null,
      "outputs": []
    },
    {
      "cell_type": "code",
      "source": [
        "#save to a csv file\n",
        "df.to_csv(\"Dataset19_pdf\")"
      ],
      "metadata": {
        "id": "l-GfnTfqeqxW"
      },
      "execution_count": null,
      "outputs": []
    }
  ]
}