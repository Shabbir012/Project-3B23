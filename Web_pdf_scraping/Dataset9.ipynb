{
  "nbformat": 4,
  "nbformat_minor": 0,
  "metadata": {
    "colab": {
      "provenance": []
    },
    "kernelspec": {
      "name": "python3",
      "display_name": "Python 3"
    },
    "language_info": {
      "name": "python"
    }
  },
  "cells": [
    {
      "cell_type": "code",
      "execution_count": null,
      "metadata": {
        "id": "cIg8Rk-d8W7f"
      },
      "outputs": [],
      "source": [
        "#install library\n",
        "!pip install selenium\n",
        "!pip install beautifulsoup4==4.9.3"
      ]
    },
    {
      "cell_type": "code",
      "source": [
        "!apt-get update"
      ],
      "metadata": {
        "id": "m2cTh6_y8f4F"
      },
      "execution_count": null,
      "outputs": []
    },
    {
      "cell_type": "code",
      "source": [
        "#install chromium browser which is required by selenium\n",
        "!apt-get install -y chromium-browser"
      ],
      "metadata": {
        "id": "gJdHl33c8h2m"
      },
      "execution_count": null,
      "outputs": []
    },
    {
      "cell_type": "code",
      "source": [
        "!apt install chromium-chromedriver"
      ],
      "metadata": {
        "id": "YKJ41iNS8iun"
      },
      "execution_count": null,
      "outputs": []
    },
    {
      "cell_type": "code",
      "source": [
        "from selenium import webdriver\n",
        "from selenium.webdriver.common.by import By"
      ],
      "metadata": {
        "id": "HEvpPwXT8kpZ"
      },
      "execution_count": null,
      "outputs": []
    },
    {
      "cell_type": "code",
      "source": [
        "def web_driver():\n",
        "    options = webdriver.ChromeOptions()\n",
        "    options.add_argument(\"--verbose\")\n",
        "    options.add_argument('--no-sandbox')\n",
        "    options.add_argument('--headless')\n",
        "    options.add_argument('--disable-gpu')\n",
        "    options.add_argument(\"--window-size=1920, 1200\")\n",
        "    options.add_argument('--disable-dev-shm-usage')\n",
        "    driver = webdriver.Chrome(options=options)\n",
        "    return driver"
      ],
      "metadata": {
        "id": "PX75nYGl8mbl"
      },
      "execution_count": null,
      "outputs": []
    },
    {
      "cell_type": "code",
      "source": [
        "\n",
        "drive = web_driver()\n"
      ],
      "metadata": {
        "id": "DyXzx8Zm8oPY"
      },
      "execution_count": null,
      "outputs": []
    },
    {
      "cell_type": "code",
      "source": [
        "#input the link of the website\n",
        "drive.get('https://www.linkedin.com/posts/ian-curtis-138492102_ai-x-ar-this-is-a-8th-wall-webar-experience-activity-7168302859959173120-bS_T/?utm_source=share&utm_medium=member_android')"
      ],
      "metadata": {
        "id": "qHNJ9cxm8wrz"
      },
      "execution_count": null,
      "outputs": []
    },
    {
      "cell_type": "code",
      "source": [
        "x= drive.page_source"
      ],
      "metadata": {
        "id": "zj2Z1lF-8xeW"
      },
      "execution_count": null,
      "outputs": []
    },
    {
      "cell_type": "code",
      "source": [
        "from bs4 import BeautifulSoup"
      ],
      "metadata": {
        "id": "4w1sAaeq8ziN",
        "colab": {
          "base_uri": "https://localhost:8080/"
        },
        "outputId": "0efdd768-6085-45c8-985d-c495da0f4268"
      },
      "execution_count": null,
      "outputs": [
        {
          "output_type": "stream",
          "name": "stdout",
          "text": [
            "Collecting beautifulsoup4==4.9.3\n",
            "  Downloading beautifulsoup4-4.9.3-py3-none-any.whl (115 kB)\n",
            "\u001b[2K     \u001b[90m━━━━━━━━━━━━━━━━━━━━━━━━━━━━━━━━━━━━━━━━\u001b[0m \u001b[32m115.8/115.8 kB\u001b[0m \u001b[31m1.8 MB/s\u001b[0m eta \u001b[36m0:00:00\u001b[0m\n",
            "\u001b[?25hRequirement already satisfied: soupsieve>1.2 in /usr/local/lib/python3.10/dist-packages (from beautifulsoup4==4.9.3) (2.5)\n",
            "Installing collected packages: beautifulsoup4\n",
            "  Attempting uninstall: beautifulsoup4\n",
            "    Found existing installation: beautifulsoup4 4.12.3\n",
            "    Uninstalling beautifulsoup4-4.12.3:\n",
            "      Successfully uninstalled beautifulsoup4-4.12.3\n",
            "\u001b[31mERROR: pip's dependency resolver does not currently take into account all the packages that are installed. This behaviour is the source of the following dependency conflicts.\n",
            "yfinance 0.2.37 requires beautifulsoup4>=4.11.1, but you have beautifulsoup4 4.9.3 which is incompatible.\u001b[0m\u001b[31m\n",
            "\u001b[0mSuccessfully installed beautifulsoup4-4.9.3\n"
          ]
        }
      ]
    },
    {
      "cell_type": "code",
      "source": [
        "#get html content of the website\n",
        "soup = BeautifulSoup(x, \"html5lib\")\n",
        "print(soup.prettify())\n"
      ],
      "metadata": {
        "id": "3WcTqCA0828l"
      },
      "execution_count": null,
      "outputs": []
    },
    {
      "cell_type": "code",
      "source": [
        "# Replace with the appropriate CSS selector for comments\n",
        "# Extract comments using CSS selector\n",
        "comments = soup.select(comments_selector)\n",
        "print(comments)"
      ],
      "metadata": {
        "id": "ZbSt9stBy9iU",
        "colab": {
          "base_uri": "https://localhost:8080/"
        },
        "outputId": "d8c72924-4091-4115-c8d1-ba0e2b790515"
      },
      "execution_count": null,
      "outputs": [
        {
          "output_type": "stream",
          "name": "stdout",
          "text": [
            "[<p class=\"attributed-text-segment-list__content text-color-text !text-sm whitespace-pre-wrap break-words attributed-text-segment-list__content-truncated\" data-test-id=\"main-feed-activity-card__commentary\" dir=\"ltr\">🔮 AI x AR 👟\n",
            "\n",
            "This is a <a class=\"link\" data-tracking-control-name=\"public_post-text\" data-tracking-will-navigate=\"\" href=\"https://www.linkedin.com/company/8thwall?trk=public_post-text\" target=\"_self\">8th Wall</a> WebAR experience accessible to users by scanning an AI-generated QR code, which also functions as an image target for AR tracking.\n",
            "\n",
            "Test it out for yourself! In the comments or at the end of this video, just scan the AI-generated QR code, grant the requested camera permissions in your browser, and then redirect your device back to the QR code to see the WebAR experience I developed.</p>, <p class=\"attributed-text-segment-list__content text-color-text !text-sm whitespace-pre-wrap break-words comment__text babybear:mt-0.5\" dir=\"ltr\">Test it out yourself by scanning this QR code. \n",
            "*Note that the sticker was removed after filming </p>, <p class=\"attributed-text-segment-list__content text-color-text !text-sm whitespace-pre-wrap break-words comment__text babybear:mt-0.5\" dir=\"ltr\">If anyone has any inquiries regarding the development process of this <a class=\"link\" data-tracking-control-name=\"public_post_comment-text\" data-tracking-will-navigate=\"\" href=\"https://www.linkedin.com/company/8thwall?trk=public_post_comment-text\" target=\"_self\">8th Wall</a> experience or need further clarification, I am always happy to assist and or to explore ideas on how augmented reality can benefit your industry. 😊\n",
            "\n",
            "Additionally, if you're considering a collaborative opportunity, please do not hesitate to contact me via my Instagram.\n",
            "\n",
            "<a class=\"link\" data-tracking-control-name=\"public_post_comment-text\" data-tracking-will-navigate=\"\" href=\"https://www.instagram.com/xr.architect?trk=public_post_comment-text\" rel=\"nofollow\" target=\"_self\">https://www.instagram.com/xr.architect</a>/</p>, <p class=\"attributed-text-segment-list__content text-color-text !text-sm whitespace-pre-wrap break-words comment__text babybear:mt-0.5\" dir=\"ltr\">Now imagine Pokemon cards with this technology \n",
            "</p>, <p class=\"attributed-text-segment-list__content text-color-text !text-sm whitespace-pre-wrap break-words comment__text babybear:mt-0.5\" dir=\"ltr\">Clever, and very cool experiment. My brain is cycling on the many this could be leveraged.  Brands/Products, experiences, education…love it!</p>, <p class=\"attributed-text-segment-list__content text-color-text !text-sm whitespace-pre-wrap break-words comment__text babybear:mt-0.5\" dir=\"ltr\"><a class=\"link\" data-tracking-control-name=\"public_post_comment-text\" data-tracking-will-navigate=\"\" href=\"https://www.linkedin.com/in/seanp-ai?trk=public_post_comment-text\" target=\"_self\">Sean P.</a>  <a class=\"link\" data-tracking-control-name=\"public_post_comment-text\" data-tracking-will-navigate=\"\" href=\"https://www.linkedin.com/company/quick-qr-art?trk=public_post_comment-text\" target=\"_self\">Quick QR Art - QR Code Art AI Generator</a>  is this created using your solution?!</p>, <p class=\"attributed-text-segment-list__content text-color-text !text-sm whitespace-pre-wrap break-words comment__text babybear:mt-0.5\" dir=\"ltr\">The man.</p>, <p class=\"attributed-text-segment-list__content text-color-text !text-sm whitespace-pre-wrap break-words comment__text babybear:mt-0.5\" dir=\"ltr\">how did you make the particles in AR? we used alembic in our AR project and it halted the framerate.</p>, <p class=\"attributed-text-segment-list__content text-color-text !text-sm whitespace-pre-wrap break-words comment__text babybear:mt-0.5\" dir=\"ltr\">Link?</p>, <p class=\"attributed-text-segment-list__content text-color-text !text-sm whitespace-pre-wrap break-words comment__text babybear:mt-0.5\" dir=\"ltr\">The ability to experience this with essentially two taps in under 5 seconds is impressive!</p>, <p class=\"attributed-text-segment-list__content text-color-text !text-sm whitespace-pre-wrap break-words comment__text babybear:mt-0.5\" dir=\"ltr\">Simply amazing</p>]\n"
          ]
        }
      ]
    },
    {
      "cell_type": "code",
      "source": [
        "import pandas as pd\n",
        "\n",
        "# Create an empty list to store comment data\n",
        "comment_data = []\n",
        "\n",
        "# Iterate through comments and extract text\n",
        "for comment in comments:\n",
        "  comment_text = comment.get_text(strip=True)  # Extract text and remove whitespace\n",
        "  comment_data.append(comment_text)  # Add text to a dictionary\n",
        "\n",
        "# Create a DataFrame from the list of dictionaries\n",
        "df = pd.DataFrame(comment_data, columns = ['Text'])\n",
        "\n",
        "# Print the DataFrame with comments\n",
        "print(df)"
      ],
      "metadata": {
        "id": "CxK9EYgBzK74"
      },
      "execution_count": null,
      "outputs": []
    },
    {
      "cell_type": "code",
      "source": [
        "#store in a csv file\n",
        "df.to_csv(\"Dataset9\")"
      ],
      "metadata": {
        "id": "gnUg0bHG1jZl"
      },
      "execution_count": null,
      "outputs": []
    }
  ]
}